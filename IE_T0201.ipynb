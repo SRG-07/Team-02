{
  "nbformat": 4,
  "nbformat_minor": 0,
  "metadata": {
    "colab": {
      "provenance": []
    },
    "kernelspec": {
      "name": "python3",
      "display_name": "Python 3"
    },
    "language_info": {
      "name": "python"
    }
  },
  "cells": [
    {
      "cell_type": "code",
      "execution_count": 2,
      "metadata": {
        "colab": {
          "base_uri": "https://localhost:8080/"
        },
        "id": "1U9Ba8UdbW8e",
        "outputId": "b57d1de1-427f-4d8a-d077-d4c8b2e5780d"
      },
      "outputs": [
        {
          "output_type": "stream",
          "name": "stdout",
          "text": [
            "Requirement already satisfied: Pillow in /usr/local/lib/python3.12/dist-packages (11.3.0)\n"
          ]
        }
      ],
      "source": [
        "!pip install Pillow\n"
      ]
    },
    {
      "cell_type": "code",
      "source": [
        "from PIL import Image\n",
        "img=Image.open('zoro.jpg')\n",
        "img_encoded=img.copy()\n",
        "width,height=img.size"
      ],
      "metadata": {
        "id": "iXpFe6SrbsAD"
      },
      "execution_count": 5,
      "outputs": []
    },
    {
      "cell_type": "code",
      "source": [
        "message=\"Hello I am Sumit Gadyal\"\n",
        "message_bits=''.join([format(ord(c),'08b') for c in message])\n",
        "print(len(message_bits))"
      ],
      "metadata": {
        "colab": {
          "base_uri": "https://localhost:8080/"
        },
        "id": "iZEaEFwAcuqP",
        "outputId": "d6411873-7b74-4526-f780-51b6d06fd574"
      },
      "execution_count": 9,
      "outputs": [
        {
          "output_type": "stream",
          "name": "stdout",
          "text": [
            "184\n"
          ]
        }
      ]
    },
    {
      "cell_type": "code",
      "source": [
        "pixels=list(img_encoded.getdata())\n",
        "num_pixels=len(pixels)\n",
        "\n",
        "print(num_pixels)"
      ],
      "metadata": {
        "colab": {
          "base_uri": "https://localhost:8080/"
        },
        "id": "fay47g8Kdnb3",
        "outputId": "178b296c-ac20-4bd7-eae1-42ef71ac3b1a"
      },
      "execution_count": 8,
      "outputs": [
        {
          "output_type": "stream",
          "name": "stdout",
          "text": [
            "2420000\n"
          ]
        }
      ]
    },
    {
      "cell_type": "code",
      "source": [
        "def encode_message_in_red(pixels,message_bits):\n",
        "  encoded_pixels=[]\n",
        "  bit_idx=0\n",
        "  for i,(r,g,b) in enumerate(pixels):\n",
        "    if bit_idx<len(message_bits):\n",
        "      r=r&0b11111110\n",
        "      r=r|int(message_bits[bit_idx],2)\n",
        "      bit_idx+=1\n",
        "    encoded_pixels.append((r,g,b))\n",
        "  return encoded_pixels\n"
      ],
      "metadata": {
        "id": "zcb8OTQ6eAjW"
      },
      "execution_count": 10,
      "outputs": []
    },
    {
      "cell_type": "code",
      "source": [
        "encoded_pixels=encode_message_in_red(pixels,message_bits)\n",
        "img_encoded.putdata(encoded_pixels)\n",
        "img_encoded.save('encoded_image.jpg')\n",
        "print(\"Message encoded Successfully\")"
      ],
      "metadata": {
        "colab": {
          "base_uri": "https://localhost:8080/"
        },
        "id": "EJqZZYQUgS6F",
        "outputId": "25d33d19-48ec-4801-f87a-54c671d8bdf9"
      },
      "execution_count": 11,
      "outputs": [
        {
          "output_type": "stream",
          "name": "stdout",
          "text": [
            "Message encoded Successfully\n"
          ]
        }
      ]
    },
    {
      "cell_type": "code",
      "source": [
        "#Decoding"
      ],
      "metadata": {
        "id": "ecoMDR5bhMcL"
      },
      "execution_count": 12,
      "outputs": []
    },
    {
      "cell_type": "code",
      "source": [
        "image_encoded=Image.open('encoded_image.jpg')\n",
        "pixels=list(img_encoded.getdata())\n",
        "\n",
        "def decoded_message_from_red(pixels,num_chars):\n",
        "  bits=\"\"\n",
        "  for i in range(num_chars*8):\n",
        "    r=pixels[i][0]\n",
        "    bits+=str(r&1)\n",
        "  m=''\n",
        "  for i in range(0,len(bits),8):\n",
        "    byte=bits[i:i+8]\n",
        "    m+=chr(int(byte,2))\n",
        "\n",
        "  return m"
      ],
      "metadata": {
        "id": "6BMOjRguhTil"
      },
      "execution_count": 14,
      "outputs": []
    },
    {
      "cell_type": "code",
      "source": [
        "decoded_message = decoded_message_from_red(pixels, num_chars=len(message))\n",
        "print(decoded_message)"
      ],
      "metadata": {
        "colab": {
          "base_uri": "https://localhost:8080/"
        },
        "id": "h87MYhvAkqP2",
        "outputId": "74b066ab-d3e7-4b7b-eb51-476a55f45fd4"
      },
      "execution_count": 15,
      "outputs": [
        {
          "output_type": "stream",
          "name": "stdout",
          "text": [
            "Hello I am Sumit Gadyal\n"
          ]
        }
      ]
    }
  ]
}